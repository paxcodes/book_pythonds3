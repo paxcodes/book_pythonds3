{
 "cells": [
  {
   "cell_type": "code",
   "execution_count": 1,
   "metadata": {},
   "outputs": [],
   "source": [
    "\"\"\"Devise an experiment that compares the performance of the del operator on lists and\n",
    "dictionaries. What we're trying to show is that for lists deleting will be O(n) and\n",
    "for dictionaries del will be O(1)\"\"\"\n",
    "\n",
    "from timeit import timeit\n",
    "\n",
    "dictionaries, del_dict_times = {}, {}\n",
    "lists, del_list_times = {}, {}\n",
    "sizes = range(1_000, 100_000, 1_000)\n",
    "for size in sizes:\n",
    "    lists[size] = list(range(size))\n",
    "    dictionaries[size] = dict(zip(lists[size], lists[size]))\n",
    "    del_dict_times[size] = timeit(\n",
    "        f\"del dictionaries[{size}][0]\", \"from __main__ import dictionaries\", number=1\n",
    "    )\n",
    "    del_list_times[size] = timeit(\n",
    "        f\"del lists[{size}][0]\", \"from __main__ import lists\", number=1\n",
    "    )\n"
   ]
  },
  {
   "cell_type": "code",
   "execution_count": 2,
   "metadata": {},
   "outputs": [
    {
     "data": {
      "text/html": [
       "<div>\n",
       "<style scoped>\n",
       "    .dataframe tbody tr th:only-of-type {\n",
       "        vertical-align: middle;\n",
       "    }\n",
       "\n",
       "    .dataframe tbody tr th {\n",
       "        vertical-align: top;\n",
       "    }\n",
       "\n",
       "    .dataframe thead th {\n",
       "        text-align: right;\n",
       "    }\n",
       "</style>\n",
       "<table border=\"1\" class=\"dataframe\">\n",
       "  <thead>\n",
       "    <tr style=\"text-align: right;\">\n",
       "      <th></th>\n",
       "      <th>size</th>\n",
       "      <th>dict_times</th>\n",
       "      <th>list_times</th>\n",
       "    </tr>\n",
       "  </thead>\n",
       "  <tbody>\n",
       "    <tr>\n",
       "      <th>0</th>\n",
       "      <td>1000</td>\n",
       "      <td>9.780000e-07</td>\n",
       "      <td>0.000001</td>\n",
       "    </tr>\n",
       "    <tr>\n",
       "      <th>1</th>\n",
       "      <td>2000</td>\n",
       "      <td>8.510000e-07</td>\n",
       "      <td>0.000001</td>\n",
       "    </tr>\n",
       "    <tr>\n",
       "      <th>2</th>\n",
       "      <td>3000</td>\n",
       "      <td>9.340000e-07</td>\n",
       "      <td>0.000002</td>\n",
       "    </tr>\n",
       "    <tr>\n",
       "      <th>3</th>\n",
       "      <td>4000</td>\n",
       "      <td>8.790000e-07</td>\n",
       "      <td>0.000002</td>\n",
       "    </tr>\n",
       "    <tr>\n",
       "      <th>4</th>\n",
       "      <td>5000</td>\n",
       "      <td>8.440000e-07</td>\n",
       "      <td>0.000002</td>\n",
       "    </tr>\n",
       "    <tr>\n",
       "      <th>...</th>\n",
       "      <td>...</td>\n",
       "      <td>...</td>\n",
       "      <td>...</td>\n",
       "    </tr>\n",
       "    <tr>\n",
       "      <th>94</th>\n",
       "      <td>95000</td>\n",
       "      <td>1.128000e-06</td>\n",
       "      <td>0.000049</td>\n",
       "    </tr>\n",
       "    <tr>\n",
       "      <th>95</th>\n",
       "      <td>96000</td>\n",
       "      <td>1.041000e-06</td>\n",
       "      <td>0.000049</td>\n",
       "    </tr>\n",
       "    <tr>\n",
       "      <th>96</th>\n",
       "      <td>97000</td>\n",
       "      <td>1.163000e-06</td>\n",
       "      <td>0.000050</td>\n",
       "    </tr>\n",
       "    <tr>\n",
       "      <th>97</th>\n",
       "      <td>98000</td>\n",
       "      <td>1.016000e-06</td>\n",
       "      <td>0.000050</td>\n",
       "    </tr>\n",
       "    <tr>\n",
       "      <th>98</th>\n",
       "      <td>99000</td>\n",
       "      <td>1.541000e-06</td>\n",
       "      <td>0.000061</td>\n",
       "    </tr>\n",
       "  </tbody>\n",
       "</table>\n",
       "<p>99 rows × 3 columns</p>\n",
       "</div>"
      ],
      "text/plain": [
       "     size    dict_times  list_times\n",
       "0    1000  9.780000e-07    0.000001\n",
       "1    2000  8.510000e-07    0.000001\n",
       "2    3000  9.340000e-07    0.000002\n",
       "3    4000  8.790000e-07    0.000002\n",
       "4    5000  8.440000e-07    0.000002\n",
       "..    ...           ...         ...\n",
       "94  95000  1.128000e-06    0.000049\n",
       "95  96000  1.041000e-06    0.000049\n",
       "96  97000  1.163000e-06    0.000050\n",
       "97  98000  1.016000e-06    0.000050\n",
       "98  99000  1.541000e-06    0.000061\n",
       "\n",
       "[99 rows x 3 columns]"
      ]
     },
     "execution_count": 2,
     "metadata": {},
     "output_type": "execute_result"
    }
   ],
   "source": [
    "import pandas as pd\n",
    "\n",
    "df = pd.DataFrame({\"size\": sizes, \"dict_times\": list(del_dict_times.values()),\"list_times\": list(del_list_times.values())})\n",
    "df"
   ]
  },
  {
   "cell_type": "code",
   "execution_count": 3,
   "metadata": {},
   "outputs": [
    {
     "name": "stdout",
     "output_type": "stream",
     "text": [
      "Line graph: \n"
     ]
    },
    {
     "data": {
      "image/png": "[encoded data removed]",
      "text/plain": [
       "<Figure size 432x288 with 1 Axes>"
      ]
     },
     "metadata": {
      "needs_background": "light"
     },
     "output_type": "display_data"
    }
   ],
   "source": [
    "import matplotlib.pyplot as plt\n",
    "\n",
    "# plotting a line graph\n",
    "print(\"Line graph: \")\n",
    "plt.plot(df[\"size\"], df[\"list_times\"], 'g')\n",
    "plt.plot(df[\"size\"], df[\"dict_times\"], 'b')\n",
    "plt.show()"
   ]
  },
  {
   "cell_type": "code",
   "execution_count": null,
   "metadata": {},
   "outputs": [],
   "source": []
  }
 ],
 "metadata": {
  "kernelspec": {
   "display_name": "Python 3",
   "language": "python",
   "name": "python3"
  },
  "language_info": {
   "codemirror_mode": {
    "name": "ipython",
    "version": 3
   },
   "file_extension": ".py",
   "mimetype": "text/x-python",
   "name": "python",
   "nbconvert_exporter": "python",
   "pygments_lexer": "ipython3",
   "version": "3.8.3"
  },
  "metadata": {
   "interpreter": {
    "hash": "6fd791bfe94334c1779a1befb9a8892cc4e0d50bb1f995eba3835591d516ffc7"
   }
  }
 },
 "nbformat": 4,
 "nbformat_minor": 4
}
